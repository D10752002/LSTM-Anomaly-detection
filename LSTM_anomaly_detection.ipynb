{
  "nbformat": 4,
  "nbformat_minor": 0,
  "metadata": {
    "colab": {
      "name": "LSTM anomaly detection.ipynb",
      "provenance": [],
      "include_colab_link": true
    },
    "kernelspec": {
      "name": "python3",
      "display_name": "Python 3"
    },
    "language_info": {
      "name": "python"
    }
  },
  "cells": [
    {
      "cell_type": "markdown",
      "metadata": {
        "id": "view-in-github",
        "colab_type": "text"
      },
      "source": [
        "<a href=\"https://colab.research.google.com/github/D10752002/LSTM-Anomaly-detection/blob/main/LSTM_anomaly_detection.ipynb\" target=\"_parent\"><img src=\"https://colab.research.google.com/assets/colab-badge.svg\" alt=\"Open In Colab\"/></a>"
      ]
    },
    {
      "cell_type": "code",
      "execution_count": null,
      "metadata": {
        "colab": {
          "base_uri": "https://localhost:8080/"
        },
        "id": "Uxuh_i2Xv-sq",
        "outputId": "9a92faae-899a-46b0-e064-2158d233e7a0"
      },
      "outputs": [
        {
          "output_type": "stream",
          "name": "stdout",
          "text": [
            "Mounted at /content/drive\n"
          ]
        }
      ],
      "source": [
        "from google.colab import drive\n",
        "drive.mount('/content/drive')"
      ]
    },
    {
      "cell_type": "code",
      "source": [
        "import numpy as np\n",
        "from tensorflow.keras.models import Sequential\n",
        "from tensorflow.keras.layers import LSTM\n",
        "from tensorflow.keras.layers import Dense, Dropout\n",
        "import pandas as pd\n",
        "from matplotlib import pyplot as plt\n",
        "from sklearn.preprocessing import StandardScaler\n",
        "import seaborn as sns"
      ],
      "metadata": {
        "id": "wd8yllXtwGWW"
      },
      "execution_count": null,
      "outputs": []
    },
    {
      "cell_type": "code",
      "source": [
        "df = pd.read_csv('/content/drive/MyDrive/nas.csv')\n",
        "print(df.head())"
      ],
      "metadata": {
        "colab": {
          "base_uri": "https://localhost:8080/"
        },
        "id": "RbWPOBVywI0h",
        "outputId": "95593b94-ad7b-4e64-c9f3-c51539a0f023"
      },
      "execution_count": null,
      "outputs": [
        {
          "output_type": "stream",
          "name": "stdout",
          "text": [
            "         Date         Open         High          Low        Close  \\\n",
            "0  2017-07-24  6387.819824  6417.700195  6380.609863  6410.810059   \n",
            "1  2017-07-25  6407.589844  6425.450195  6396.870117  6412.169922   \n",
            "2  2017-07-26  6425.930176  6432.379883  6416.299805  6422.750000   \n",
            "3  2017-07-27  6459.759766  6460.839844  6318.620117  6382.189941   \n",
            "4  2017-07-28  6350.270020  6379.700195  6337.220215  6374.680176   \n",
            "\n",
            "     Adj Close      Volume  \n",
            "0  6410.810059  1735520000  \n",
            "1  6412.169922  1925230000  \n",
            "2  6422.750000  1988040000  \n",
            "3  6382.189941  2483560000  \n",
            "4  6374.680176  1860770000  \n"
          ]
        }
      ]
    },
    {
      "cell_type": "code",
      "source": [
        "train_dates = pd.to_datetime(df['Date'])\n",
        "print(train_dates.tail(15))"
      ],
      "metadata": {
        "colab": {
          "base_uri": "https://localhost:8080/"
        },
        "id": "h37LgnL2wPEe",
        "outputId": "f1cee94d-26bf-4f0e-beb5-2b5b81de0292"
      },
      "execution_count": null,
      "outputs": [
        {
          "output_type": "stream",
          "name": "stdout",
          "text": [
            "1207   2022-05-09\n",
            "1208   2022-05-10\n",
            "1209   2022-05-11\n",
            "1210   2022-05-12\n",
            "1211   2022-05-13\n",
            "1212   2022-05-16\n",
            "1213   2022-05-17\n",
            "1214   2022-05-18\n",
            "1215   2022-05-19\n",
            "1216   2022-05-20\n",
            "1217   2022-05-23\n",
            "1218   2022-05-24\n",
            "1219   2022-05-25\n",
            "1220   2022-05-26\n",
            "1221   2022-05-27\n",
            "Name: Date, dtype: datetime64[ns]\n"
          ]
        }
      ]
    },
    {
      "cell_type": "code",
      "source": [
        "cols = list(df)[1:5]\n",
        "print(cols) #['Open', 'High', 'Low', 'Close']"
      ],
      "metadata": {
        "colab": {
          "base_uri": "https://localhost:8080/"
        },
        "id": "sc-ohjTFwRTK",
        "outputId": "c1d9f35c-eadd-49e9-faa7-ce168bc768e4"
      },
      "execution_count": null,
      "outputs": [
        {
          "output_type": "stream",
          "name": "stdout",
          "text": [
            "['Open', 'High', 'Low', 'Close']\n"
          ]
        }
      ]
    },
    {
      "cell_type": "code",
      "source": [
        "df_for_training = df[cols].astype(float)"
      ],
      "metadata": {
        "id": "k2HV1zIXwUoN"
      },
      "execution_count": null,
      "outputs": []
    },
    {
      "cell_type": "code",
      "source": [
        "# normalize the dataset\n",
        "scaler = StandardScaler()\n",
        "scaler = scaler.fit(df_for_training)\n",
        "df_for_training_scaled = scaler.transform(df_for_training)"
      ],
      "metadata": {
        "id": "U2rQ4FcQwXbf"
      },
      "execution_count": null,
      "outputs": []
    },
    {
      "cell_type": "code",
      "source": [
        "trainX = []\n",
        "trainY = []\n",
        "\n",
        "n_future = 1  \n",
        "n_past = 5 \n",
        "\n",
        "#shape: (num_samples x timesteps x n_features)\n",
        "\n",
        "for i in range(n_past, len(df_for_training_scaled) ):\n",
        "    trainX.append(df_for_training_scaled[i - n_past:i, 0:df_for_training.shape[1]])\n",
        "    trainY.append(df_for_training_scaled[i + n_future - 1:i + n_future, 0])\n",
        "\n",
        "trainX, trainY = np.array(trainX), np.array(trainY)\n",
        "\n",
        "print('trainX shape == {}.'.format(trainX.shape))\n",
        "print('trainY shape == {}.'.format(trainY.shape))\n"
      ],
      "metadata": {
        "colab": {
          "base_uri": "https://localhost:8080/"
        },
        "id": "bPM-ojYRwZwr",
        "outputId": "d0519f5b-61a6-448c-e1f6-342abc1b0aa2"
      },
      "execution_count": null,
      "outputs": [
        {
          "output_type": "stream",
          "name": "stdout",
          "text": [
            "trainX shape == (1217, 5, 4).\n",
            "trainY shape == (1217, 1).\n"
          ]
        }
      ]
    },
    {
      "cell_type": "code",
      "source": [
        "# Model architecture\n",
        "\n",
        "model = Sequential()\n",
        "model.add(LSTM(64, activation='relu', input_shape=(trainX.shape[1], trainX.shape[2]), return_sequences=True))\n",
        "model.add(LSTM(32, activation='relu', return_sequences=False))\n",
        "model.add(Dropout(0.2))\n",
        "model.add(Dense(trainY.shape[1]))\n",
        "\n",
        "model.compile(optimizer='adam', loss='mse')\n",
        "model.summary()"
      ],
      "metadata": {
        "colab": {
          "base_uri": "https://localhost:8080/"
        },
        "id": "uKfDg6MPweEU",
        "outputId": "e0687f1f-4349-4536-a409-4778ca8a5afc"
      },
      "execution_count": null,
      "outputs": [
        {
          "output_type": "stream",
          "name": "stdout",
          "text": [
            "Model: \"sequential\"\n",
            "_________________________________________________________________\n",
            " Layer (type)                Output Shape              Param #   \n",
            "=================================================================\n",
            " lstm (LSTM)                 (None, 5, 64)             17664     \n",
            "                                                                 \n",
            " lstm_1 (LSTM)               (None, 32)                12416     \n",
            "                                                                 \n",
            " dropout (Dropout)           (None, 32)                0         \n",
            "                                                                 \n",
            " dense (Dense)               (None, 1)                 33        \n",
            "                                                                 \n",
            "=================================================================\n",
            "Total params: 30,113\n",
            "Trainable params: 30,113\n",
            "Non-trainable params: 0\n",
            "_________________________________________________________________\n"
          ]
        }
      ]
    },
    {
      "cell_type": "code",
      "source": [
        "# model fitting\n",
        "history = model.fit(trainX, trainY, epochs=30, batch_size=16, validation_split=0.1, verbose=1)"
      ],
      "metadata": {
        "colab": {
          "base_uri": "https://localhost:8080/"
        },
        "id": "A_mDuwxqwhDK",
        "outputId": "23d65aab-5025-402d-bd96-ea600d87099f"
      },
      "execution_count": null,
      "outputs": [
        {
          "output_type": "stream",
          "name": "stdout",
          "text": [
            "Epoch 1/30\n",
            "69/69 [==============================] - 4s 14ms/step - loss: 0.2143 - val_loss: 0.0884\n",
            "Epoch 2/30\n",
            "69/69 [==============================] - 1s 8ms/step - loss: 0.0391 - val_loss: 0.0223\n",
            "Epoch 3/30\n",
            "69/69 [==============================] - 1s 9ms/step - loss: 0.0313 - val_loss: 0.0186\n",
            "Epoch 4/30\n",
            "69/69 [==============================] - 1s 8ms/step - loss: 0.0317 - val_loss: 0.0157\n",
            "Epoch 5/30\n",
            "69/69 [==============================] - 1s 8ms/step - loss: 0.0285 - val_loss: 0.0148\n",
            "Epoch 6/30\n",
            "69/69 [==============================] - 1s 8ms/step - loss: 0.0288 - val_loss: 0.0153\n",
            "Epoch 7/30\n",
            "69/69 [==============================] - 1s 8ms/step - loss: 0.0250 - val_loss: 0.0126\n",
            "Epoch 8/30\n",
            "69/69 [==============================] - 1s 8ms/step - loss: 0.0300 - val_loss: 0.0243\n",
            "Epoch 9/30\n",
            "69/69 [==============================] - 1s 8ms/step - loss: 0.0308 - val_loss: 0.0280\n",
            "Epoch 10/30\n",
            "69/69 [==============================] - 1s 8ms/step - loss: 0.0301 - val_loss: 0.0210\n",
            "Epoch 11/30\n",
            "69/69 [==============================] - 1s 8ms/step - loss: 0.0293 - val_loss: 0.0139\n",
            "Epoch 12/30\n",
            "69/69 [==============================] - 1s 8ms/step - loss: 0.0296 - val_loss: 0.0167\n",
            "Epoch 13/30\n",
            "69/69 [==============================] - 1s 8ms/step - loss: 0.0301 - val_loss: 0.0108\n",
            "Epoch 14/30\n",
            "69/69 [==============================] - 1s 8ms/step - loss: 0.0267 - val_loss: 0.0375\n",
            "Epoch 15/30\n",
            "69/69 [==============================] - 1s 8ms/step - loss: 0.0313 - val_loss: 0.0111\n",
            "Epoch 16/30\n",
            "69/69 [==============================] - 1s 8ms/step - loss: 0.0298 - val_loss: 0.0124\n",
            "Epoch 17/30\n",
            "69/69 [==============================] - 1s 7ms/step - loss: 0.0269 - val_loss: 0.0093\n",
            "Epoch 18/30\n",
            "69/69 [==============================] - 1s 8ms/step - loss: 0.0264 - val_loss: 0.0119\n",
            "Epoch 19/30\n",
            "69/69 [==============================] - 1s 8ms/step - loss: 0.0263 - val_loss: 0.0179\n",
            "Epoch 20/30\n",
            "69/69 [==============================] - 1s 8ms/step - loss: 0.0280 - val_loss: 0.0113\n",
            "Epoch 21/30\n",
            "69/69 [==============================] - 1s 8ms/step - loss: 0.0317 - val_loss: 0.0101\n",
            "Epoch 22/30\n",
            "69/69 [==============================] - 1s 7ms/step - loss: 0.0282 - val_loss: 0.0122\n",
            "Epoch 23/30\n",
            "69/69 [==============================] - 1s 8ms/step - loss: 0.0270 - val_loss: 0.0113\n",
            "Epoch 24/30\n",
            "69/69 [==============================] - 1s 7ms/step - loss: 0.0250 - val_loss: 0.0326\n",
            "Epoch 25/30\n",
            "69/69 [==============================] - 1s 7ms/step - loss: 0.0237 - val_loss: 0.0080\n",
            "Epoch 26/30\n",
            "69/69 [==============================] - 1s 8ms/step - loss: 0.0290 - val_loss: 0.0199\n",
            "Epoch 27/30\n",
            "69/69 [==============================] - 1s 7ms/step - loss: 0.0269 - val_loss: 0.0118\n",
            "Epoch 28/30\n",
            "69/69 [==============================] - 1s 7ms/step - loss: 0.0265 - val_loss: 0.0160\n",
            "Epoch 29/30\n",
            "69/69 [==============================] - 1s 7ms/step - loss: 0.0283 - val_loss: 0.0112\n",
            "Epoch 30/30\n",
            "69/69 [==============================] - 1s 7ms/step - loss: 0.0266 - val_loss: 0.0084\n"
          ]
        }
      ]
    },
    {
      "cell_type": "code",
      "source": [
        "plt.plot(history.history['loss'], label='Training loss')\n",
        "plt.plot(history.history['val_loss'], label='Validation loss')\n",
        "plt.legend()\n"
      ],
      "metadata": {
        "colab": {
          "base_uri": "https://localhost:8080/",
          "height": 282
        },
        "id": "GJ9w6wrgwh3D",
        "outputId": "457b0da4-057c-4037-9fe9-1981c8f61b71"
      },
      "execution_count": null,
      "outputs": [
        {
          "output_type": "execute_result",
          "data": {
            "text/plain": [
              "<matplotlib.legend.Legend at 0x7fbfab2597d0>"
            ]
          },
          "metadata": {},
          "execution_count": 11
        },
        {
          "output_type": "display_data",
          "data": {
            "text/plain": [
              "<Figure size 432x288 with 1 Axes>"
            ],
            "image/png": "[encoded data removed]"
          },
          "metadata": {
            "needs_background": "light"
          }
        }
      ]
    },
    {
      "cell_type": "code",
      "source": [
        "trainZ = []\n",
        "for i in range(n_past, len(df_for_training_scaled) ):\n",
        "    trainZ.append(df_for_training_scaled[i - n_past:i, 0:df_for_training.shape[1]])\n",
        "    \n",
        "\n",
        "trainZ = np.array(trainZ)\n",
        "\n",
        "print('trainZ shape == {}.'.format(trainZ.shape))"
      ],
      "metadata": {
        "colab": {
          "base_uri": "https://localhost:8080/"
        },
        "id": "5ANkvygCwkk9",
        "outputId": "15418a74-ff33-49c1-ff6a-fa63e92eaabb"
      },
      "execution_count": null,
      "outputs": [
        {
          "output_type": "stream",
          "name": "stdout",
          "text": [
            "trainZ shape == (1217, 5, 4).\n"
          ]
        }
      ]
    },
    {
      "cell_type": "code",
      "source": [
        "df1 = pd.read_csv('/content/drive/MyDrive/nasdaq.csv')\n",
        "train_dates1 = pd.to_datetime(df1['Date'])\n",
        "print(train_dates1)"
      ],
      "metadata": {
        "id": "-JCOoCvWUu3t",
        "colab": {
          "base_uri": "https://localhost:8080/"
        },
        "outputId": "1d42d161-8c40-4225-c1ba-563b4bf427c0"
      },
      "execution_count": null,
      "outputs": [
        {
          "output_type": "stream",
          "name": "stdout",
          "text": [
            "0      2017-07-24\n",
            "1      2017-07-25\n",
            "2      2017-07-26\n",
            "3      2017-07-27\n",
            "4      2017-07-28\n",
            "          ...    \n",
            "1253   2022-07-15\n",
            "1254   2022-07-18\n",
            "1255   2022-07-19\n",
            "1256   2022-07-20\n",
            "1257   2022-07-21\n",
            "Name: Date, Length: 1258, dtype: datetime64[ns]\n"
          ]
        }
      ]
    },
    {
      "cell_type": "code",
      "source": [
        "#Predictions\n",
        "from pandas.tseries.holiday import USFederalHolidayCalendar\n",
        "from pandas.tseries.offsets import CustomBusinessDay\n",
        "us_bd = CustomBusinessDay(calendar=USFederalHolidayCalendar())\n",
        "\n",
        "n_days_for_prediction=30  #last 30 days\n",
        "\n",
        "predict_period_dates = pd.date_range(list(train_dates1[:-30])[-1], periods=n_days_for_prediction, freq=us_bd).tolist()\n",
        "print(predict_period_dates)"
      ],
      "metadata": {
        "colab": {
          "base_uri": "https://localhost:8080/"
        },
        "id": "OTqzdVFywm9Q",
        "outputId": "e9dbaf9f-cdcd-4017-b365-c1fcf500fa71"
      },
      "execution_count": null,
      "outputs": [
        {
          "output_type": "stream",
          "name": "stdout",
          "text": [
            "[Timestamp('2022-06-07 00:00:00', freq='C'), Timestamp('2022-06-08 00:00:00', freq='C'), Timestamp('2022-06-09 00:00:00', freq='C'), Timestamp('2022-06-10 00:00:00', freq='C'), Timestamp('2022-06-13 00:00:00', freq='C'), Timestamp('2022-06-14 00:00:00', freq='C'), Timestamp('2022-06-15 00:00:00', freq='C'), Timestamp('2022-06-16 00:00:00', freq='C'), Timestamp('2022-06-17 00:00:00', freq='C'), Timestamp('2022-06-20 00:00:00', freq='C'), Timestamp('2022-06-21 00:00:00', freq='C'), Timestamp('2022-06-22 00:00:00', freq='C'), Timestamp('2022-06-23 00:00:00', freq='C'), Timestamp('2022-06-24 00:00:00', freq='C'), Timestamp('2022-06-27 00:00:00', freq='C'), Timestamp('2022-06-28 00:00:00', freq='C'), Timestamp('2022-06-29 00:00:00', freq='C'), Timestamp('2022-06-30 00:00:00', freq='C'), Timestamp('2022-07-01 00:00:00', freq='C'), Timestamp('2022-07-05 00:00:00', freq='C'), Timestamp('2022-07-06 00:00:00', freq='C'), Timestamp('2022-07-07 00:00:00', freq='C'), Timestamp('2022-07-08 00:00:00', freq='C'), Timestamp('2022-07-11 00:00:00', freq='C'), Timestamp('2022-07-12 00:00:00', freq='C'), Timestamp('2022-07-13 00:00:00', freq='C'), Timestamp('2022-07-14 00:00:00', freq='C'), Timestamp('2022-07-15 00:00:00', freq='C'), Timestamp('2022-07-18 00:00:00', freq='C'), Timestamp('2022-07-19 00:00:00', freq='C')]\n"
          ]
        }
      ]
    },
    {
      "cell_type": "code",
      "source": [
        "model.save_weights(\"lstm.h5\")"
      ],
      "metadata": {
        "id": "23ywNz5ewrMT"
      },
      "execution_count": null,
      "outputs": []
    },
    {
      "cell_type": "code",
      "source": [
        "df_for_training1 = df1[cols].astype(float)"
      ],
      "metadata": {
        "id": "RHnO0oL4Vurt"
      },
      "execution_count": null,
      "outputs": []
    },
    {
      "cell_type": "code",
      "source": [
        "#normalize\n",
        "scaler1 = StandardScaler()\n",
        "scaler1 = scaler1.fit(df_for_training1)\n",
        "df_for_training_scaled1 = scaler1.transform(df_for_training1)"
      ],
      "metadata": {
        "id": "3UC0hRwVVurv"
      },
      "execution_count": null,
      "outputs": []
    },
    {
      "cell_type": "code",
      "source": [
        "trainZ1 = []\n",
        "pred=[]\n",
        "for i in range(n_past, len(df_for_training_scaled1) ):\n",
        "    pred.append(df_for_training_scaled1[i + n_future - 1:i + n_future, 0])\n",
        "    trainZ1.append(df_for_training_scaled1[i - n_past:i, 0:df_for_training1.shape[1]])\n",
        "\n",
        "trainZ1 = np.array(trainZ1)\n",
        "pred = np.array(pred)\n",
        "\n",
        "print('trainZ1 shape == {}.'.format(trainZ1.shape))\n",
        "print('pred shape == {}.'.format(pred.shape))\n",
        "\n"
      ],
      "metadata": {
        "colab": {
          "base_uri": "https://localhost:8080/"
        },
        "id": "-F4vM-nfV8Gh",
        "outputId": "80a66c64-02ad-4b24-a4fd-f207a252e89f"
      },
      "execution_count": null,
      "outputs": [
        {
          "output_type": "stream",
          "name": "stdout",
          "text": [
            "trainZ1 shape == (1253, 5, 4).\n",
            "pred shape == (1253, 1).\n"
          ]
        }
      ]
    },
    {
      "cell_type": "code",
      "source": [
        "#Make predictions\n",
        "prediction = model.predict(trainZ1[-n_days_for_prediction:]) \n",
        "\n",
        "prediction_copies = np.repeat(prediction, df_for_training.shape[1], axis=-1)\n",
        "y_pred_future = scaler.inverse_transform(prediction_copies)[:,0]"
      ],
      "metadata": {
        "id": "VBikEhOnwsYM"
      },
      "execution_count": null,
      "outputs": []
    },
    {
      "cell_type": "code",
      "source": [
        "forecast_dates = []\n",
        "for time_i in predict_period_dates:\n",
        "    forecast_dates.append(time_i.date())\n",
        "    \n",
        "df_forecast = pd.DataFrame({'Date':np.array(forecast_dates), 'Open':y_pred_future})\n",
        "df_forecast['Date']=pd.to_datetime(df_forecast['Date'])\n",
        "\n",
        "\n",
        "original = df1[['Date', 'Open']]\n",
        "original['Date']=pd.to_datetime(original['Date'])\n",
        "original = original.loc[original['Date'] >= '2022-5-1']\n",
        "\n",
        "sns.lineplot(original['Date'], original['Open'])\n",
        "sns.lineplot(df_forecast['Date'], df_forecast['Open'])"
      ],
      "metadata": {
        "colab": {
          "base_uri": "https://localhost:8080/",
          "height": 490
        },
        "id": "fyPAd7ZDwvq0",
        "outputId": "45a4e96a-31f7-433a-dc4f-d275f790d207"
      },
      "execution_count": null,
      "outputs": [
        {
          "output_type": "stream",
          "name": "stderr",
          "text": [
            "/usr/local/lib/python3.7/dist-packages/ipykernel_launcher.py:11: SettingWithCopyWarning: \n",
            "A value is trying to be set on a copy of a slice from a DataFrame.\n",
            "Try using .loc[row_indexer,col_indexer] = value instead\n",
            "\n",
            "See the caveats in the documentation: https://pandas.pydata.org/pandas-docs/stable/user_guide/indexing.html#returning-a-view-versus-a-copy\n",
            "  # This is added back by InteractiveShellApp.init_path()\n",
            "/usr/local/lib/python3.7/dist-packages/seaborn/_decorators.py:43: FutureWarning: Pass the following variables as keyword args: x, y. From version 0.12, the only valid positional argument will be `data`, and passing other arguments without an explicit keyword will result in an error or misinterpretation.\n",
            "  FutureWarning\n",
            "/usr/local/lib/python3.7/dist-packages/seaborn/_decorators.py:43: FutureWarning: Pass the following variables as keyword args: x, y. From version 0.12, the only valid positional argument will be `data`, and passing other arguments without an explicit keyword will result in an error or misinterpretation.\n",
            "  FutureWarning\n"
          ]
        },
        {
          "output_type": "execute_result",
          "data": {
            "text/plain": [
              "<matplotlib.axes._subplots.AxesSubplot at 0x7fbfa9ac0dd0>"
            ]
          },
          "metadata": {},
          "execution_count": 20
        },
        {
          "output_type": "display_data",
          "data": {
            "text/plain": [
              "<Figure size 432x288 with 1 Axes>"
            ],
            "image/png": "[encoded data removed]"
          },
          "metadata": {
            "needs_background": "light"
          }
        }
      ]
    },
    {
      "cell_type": "code",
      "source": [
        "trainPredict = model.predict(trainX)\n",
        "trainMAE = np.mean(np.abs(trainPredict - trainY), axis=1)\n",
        "plt.hist(trainMAE, bins=30)"
      ],
      "metadata": {
        "colab": {
          "base_uri": "https://localhost:8080/",
          "height": 473
        },
        "id": "XtkZYXCze-sc",
        "outputId": "c16ea0cb-8dd2-45be-e6a8-a012fe9afa85"
      },
      "execution_count": null,
      "outputs": [
        {
          "output_type": "execute_result",
          "data": {
            "text/plain": [
              "(array([ 71.,  93.,  82.,  98., 134., 127., 121., 137.,  95.,  69.,  39.,\n",
              "         39.,  17.,  24.,  17.,  21.,  11.,   3.,   2.,   3.,   3.,   1.,\n",
              "          1.,   2.,   0.,   2.,   4.,   0.,   0.,   1.]),\n",
              " array([1.68774801e-04, 8.55864255e-03, 1.69485103e-02, 2.53383780e-02,\n",
              "        3.37282458e-02, 4.21181135e-02, 5.05079813e-02, 5.88978490e-02,\n",
              "        6.72877168e-02, 7.56775845e-02, 8.40674523e-02, 9.24573200e-02,\n",
              "        1.00847188e-01, 1.09237056e-01, 1.17626923e-01, 1.26016791e-01,\n",
              "        1.34406659e-01, 1.42796526e-01, 1.51186394e-01, 1.59576262e-01,\n",
              "        1.67966130e-01, 1.76355997e-01, 1.84745865e-01, 1.93135733e-01,\n",
              "        2.01525601e-01, 2.09915468e-01, 2.18305336e-01, 2.26695204e-01,\n",
              "        2.35085072e-01, 2.43474939e-01, 2.51864807e-01]),\n",
              " <a list of 30 Patch objects>)"
            ]
          },
          "metadata": {},
          "execution_count": 21
        },
        {
          "output_type": "display_data",
          "data": {
            "text/plain": [
              "<Figure size 432x288 with 1 Axes>"
            ],
            "image/png": "[encoded data removed]"
          },
          "metadata": {
            "needs_background": "light"
          }
        }
      ]
    },
    {
      "cell_type": "code",
      "source": [
        "max_trainMAE = 0.15"
      ],
      "metadata": {
        "id": "9F4qXtUiemKa"
      },
      "execution_count": null,
      "outputs": []
    },
    {
      "cell_type": "code",
      "source": [
        "testMAE = np.mean(np.abs(prediction - pred[-n_days_for_prediction:]), axis=1)\n",
        "plt.hist(testMAE, bins=30)"
      ],
      "metadata": {
        "colab": {
          "base_uri": "https://localhost:8080/",
          "height": 439
        },
        "id": "6yNo4LRfeow8",
        "outputId": "4b02d9b5-e83e-4023-f7bc-745c931a312b"
      },
      "execution_count": null,
      "outputs": [
        {
          "output_type": "execute_result",
          "data": {
            "text/plain": [
              "(array([3., 2., 2., 3., 2., 1., 4., 2., 1., 2., 3., 0., 0., 0., 1., 1., 0.,\n",
              "        2., 0., 0., 0., 0., 0., 0., 0., 0., 0., 0., 0., 1.]),\n",
              " array([0.01393199, 0.02219407, 0.03045615, 0.03871822, 0.0469803 ,\n",
              "        0.05524238, 0.06350446, 0.07176654, 0.08002862, 0.08829069,\n",
              "        0.09655277, 0.10481485, 0.11307693, 0.12133901, 0.12960108,\n",
              "        0.13786316, 0.14612524, 0.15438732, 0.1626494 , 0.17091147,\n",
              "        0.17917355, 0.18743563, 0.19569771, 0.20395979, 0.21222187,\n",
              "        0.22048394, 0.22874602, 0.2370081 , 0.24527018, 0.25353226,\n",
              "        0.26179433]),\n",
              " <a list of 30 Patch objects>)"
            ]
          },
          "metadata": {},
          "execution_count": 23
        },
        {
          "output_type": "display_data",
          "data": {
            "text/plain": [
              "<Figure size 432x288 with 1 Axes>"
            ],
            "image/png": "[encoded data removed]"
          },
          "metadata": {
            "needs_background": "light"
          }
        }
      ]
    },
    {
      "cell_type": "code",
      "source": [
        "anomaly_df = pd.DataFrame(pred[-n_days_for_prediction:])\n",
        "train_dates1 = np.array(train_dates1)\n",
        "anomaly_df['Date'] = train_dates1[-n_days_for_prediction:]\n",
        "anomaly_df['testMAE'] = testMAE\n",
        "anomaly_df['max_trainMAE'] = max_trainMAE\n",
        "anomaly_df['anomaly'] = anomaly_df['testMAE'] > anomaly_df['max_trainMAE']\n",
        "anomaly_df['Open'] = y_pred_future\n",
        "print(anomaly_df['Date'])"
      ],
      "metadata": {
        "colab": {
          "base_uri": "https://localhost:8080/"
        },
        "id": "W819UV0lgb2G",
        "outputId": "cea4d605-c3fc-4e2b-d641-7080b980368f"
      },
      "execution_count": null,
      "outputs": [
        {
          "output_type": "stream",
          "name": "stdout",
          "text": [
            "0    2022-06-08\n",
            "1    2022-06-09\n",
            "2    2022-06-10\n",
            "3    2022-06-13\n",
            "4    2022-06-14\n",
            "5    2022-06-15\n",
            "6    2022-06-16\n",
            "7    2022-06-17\n",
            "8    2022-06-21\n",
            "9    2022-06-22\n",
            "10   2022-06-23\n",
            "11   2022-06-24\n",
            "12   2022-06-27\n",
            "13   2022-06-28\n",
            "14   2022-06-29\n",
            "15   2022-06-30\n",
            "16   2022-07-01\n",
            "17   2022-07-05\n",
            "18   2022-07-06\n",
            "19   2022-07-07\n",
            "20   2022-07-08\n",
            "21   2022-07-11\n",
            "22   2022-07-12\n",
            "23   2022-07-13\n",
            "24   2022-07-14\n",
            "25   2022-07-15\n",
            "26   2022-07-18\n",
            "27   2022-07-19\n",
            "28   2022-07-20\n",
            "29   2022-07-21\n",
            "Name: Date, dtype: datetime64[ns]\n"
          ]
        }
      ]
    },
    {
      "cell_type": "code",
      "source": [
        "sns.lineplot(x=anomaly_df['Date'], y=anomaly_df['testMAE'])\n",
        "sns.lineplot(x=anomaly_df['Date'], y=anomaly_df['max_trainMAE'])"
      ],
      "metadata": {
        "colab": {
          "base_uri": "https://localhost:8080/",
          "height": 296
        },
        "id": "bu3vTwPqiJJe",
        "outputId": "76cf0bc5-0e0c-4ae2-ba0d-86f1bb734fab"
      },
      "execution_count": null,
      "outputs": [
        {
          "output_type": "execute_result",
          "data": {
            "text/plain": [
              "<matplotlib.axes._subplots.AxesSubplot at 0x7fbfa6f29310>"
            ]
          },
          "metadata": {},
          "execution_count": 25
        },
        {
          "output_type": "display_data",
          "data": {
            "text/plain": [
              "<Figure size 432x288 with 1 Axes>"
            ],
            "image/png": "[encoded data removed]"
          },
          "metadata": {
            "needs_background": "light"
          }
        }
      ]
    },
    {
      "cell_type": "code",
      "source": [
        "anomalies = anomaly_df.loc[anomaly_df['anomaly'] == True]\n",
        "\n",
        "#Plot anomalies\n",
        "sns.lineplot(x=anomaly_df['Date'], y=anomaly_df['Open'])\n",
        "sns.scatterplot(x=anomalies['Date'], y=anomalies['Open'], color='r')"
      ],
      "metadata": {
        "colab": {
          "base_uri": "https://localhost:8080/",
          "height": 296
        },
        "id": "0Er2CnrIkWnt",
        "outputId": "1de1c0f2-4a6f-4e87-9ef8-a413386343dd"
      },
      "execution_count": null,
      "outputs": [
        {
          "output_type": "execute_result",
          "data": {
            "text/plain": [
              "<matplotlib.axes._subplots.AxesSubplot at 0x7fbfa6e9f190>"
            ]
          },
          "metadata": {},
          "execution_count": 26
        },
        {
          "output_type": "display_data",
          "data": {
            "text/plain": [
              "<Figure size 432x288 with 1 Axes>"
            ],
            "image/png": "[encoded data removed]"
          },
          "metadata": {
            "needs_background": "light"
          }
        }
      ]
    }
  ]
}